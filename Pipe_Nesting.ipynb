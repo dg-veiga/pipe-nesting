{
  "nbformat": 4,
  "nbformat_minor": 0,
  "metadata": {
    "colab": {
      "name": "Pipe Nesting.ipynb",
      "provenance": [],
      "collapsed_sections": [],
      "authorship_tag": "ABX9TyO84CmhrhSvA6lz+LMb61NO",
      "include_colab_link": true
    },
    "kernelspec": {
      "name": "python3",
      "display_name": "Python 3"
    }
  },
  "cells": [
    {
      "cell_type": "markdown",
      "metadata": {
        "id": "view-in-github",
        "colab_type": "text"
      },
      "source": [
        "<a href=\"https://colab.research.google.com/github/dg-veiga/pipe-nesting/blob/master/Pipe_Nesting.ipynb\" target=\"_parent\"><img src=\"https://colab.research.google.com/assets/colab-badge.svg\" alt=\"Open In Colab\"/></a>"
      ]
    },
    {
      "cell_type": "code",
      "metadata": {
        "id": "keYSkUG9hhKG",
        "colab_type": "code",
        "colab": {}
      },
      "source": [
        "import copy"
      ],
      "execution_count": 1,
      "outputs": []
    },
    {
      "cell_type": "code",
      "metadata": {
        "id": "3bkDEYJwjuW9",
        "colab_type": "code",
        "colab": {}
      },
      "source": [
        "def nest_pipes(slices_list, blank_size=6000): # it assumes that all parts are smaller than the blank_size\n",
        "    sl = copy.deepcopy(slices_list)\n",
        "    sl.sort()\n",
        "    sl = sl[::-1]\n",
        "\n",
        "    def check_qty(L):\n",
        "        for l in L:\n",
        "            if l[1] > 0:\n",
        "                return True\n",
        "        return False\n",
        "\n",
        "    total_loss = 0\n",
        "    nesting = []\n",
        "    while check_qty(sl):\n",
        "        n = []\n",
        "        left = blank_size\n",
        "        for s in range(0,len(sl)):\n",
        "            while sl[s][1] > 0 and sl[s][0] <= left:\n",
        "                n.append(sl[s][0])\n",
        "                left -= sl[s][0]\n",
        "                sl[s][1] -= 1\n",
        "        nesting.append([n, left])\n",
        "        total_loss += left\n",
        "\n",
        "    number_of_pipes = len(nesting)\n",
        "\n",
        "    print('Result Info: ')\n",
        "    print('number_of_pipes: ', number_of_pipes)\n",
        "    print('yield: ', (number_of_pipes*blank_size - total_loss) / (number_of_pipes*blank_size))\n",
        "\n",
        "    return nesting"
      ],
      "execution_count": 2,
      "outputs": []
    },
    {
      "cell_type": "code",
      "metadata": {
        "id": "0lX5JUflkoHo",
        "colab_type": "code",
        "colab": {
          "base_uri": "https://localhost:8080/",
          "height": 68
        },
        "outputId": "3c0feb02-c5cd-4ee8-e809-441e8b75b903"
      },
      "source": [
        "res = nest_pipes([[1100.0, 6975],[1355.0, 6975],[3012.0,21]])"
      ],
      "execution_count": 3,
      "outputs": [
        {
          "output_type": "stream",
          "text": [
            "Result Info: \n",
            "number_of_pipes:  3150\n",
            "yield:  0.9093585714285715\n"
          ],
          "name": "stdout"
        }
      ]
    },
    {
      "cell_type": "code",
      "metadata": {
        "id": "Sl4mbSEVrd1L",
        "colab_type": "code",
        "colab": {}
      },
      "source": [
        ""
      ],
      "execution_count": 3,
      "outputs": []
    },
    {
      "cell_type": "code",
      "metadata": {
        "id": "E_tnRsrNBov_",
        "colab_type": "code",
        "colab": {}
      },
      "source": [
        ""
      ],
      "execution_count": 3,
      "outputs": []
    },
    {
      "cell_type": "code",
      "metadata": {
        "id": "gBEaqNaOBpZY",
        "colab_type": "code",
        "colab": {}
      },
      "source": [
        ""
      ],
      "execution_count": 3,
      "outputs": []
    }
  ]
}