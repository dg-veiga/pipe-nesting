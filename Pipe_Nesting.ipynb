{
  "nbformat": 4,
  "nbformat_minor": 0,
  "metadata": {
    "colab": {
      "name": "Pipe Nesting.ipynb",
      "provenance": [],
      "collapsed_sections": [],
      "authorship_tag": "ABX9TyPo8EkpXbaN1URSkJqhLx9a",
      "include_colab_link": true
    },
    "kernelspec": {
      "name": "python3",
      "display_name": "Python 3"
    }
  },
  "cells": [
    {
      "cell_type": "markdown",
      "metadata": {
        "id": "view-in-github",
        "colab_type": "text"
      },
      "source": [
        "<a href=\"https://colab.research.google.com/github/dg-veiga/pipe-nesting/blob/master/Pipe_Nesting.ipynb\" target=\"_parent\"><img src=\"https://colab.research.google.com/assets/colab-badge.svg\" alt=\"Open In Colab\"/></a>"
      ]
    },
    {
      "cell_type": "code",
      "metadata": {
        "id": "keYSkUG9hhKG",
        "colab_type": "code",
        "colab": {}
      },
      "source": [
        "import copy"
      ],
      "execution_count": null,
      "outputs": []
    },
    {
      "cell_type": "code",
      "metadata": {
        "id": "3bkDEYJwjuW9",
        "colab_type": "code",
        "colab": {}
      },
      "source": [
        "def nest_pipes(slices_list, blank_size=6000): # it assumes that all parts are smaller than the blank_size\n",
        "    '''\n",
        "    Input:\n",
        "\n",
        "    nest_pipes([[1100.0, 6975],[1355.0, 6975],[3012.0,21]])\n",
        "\n",
        "    This function takes a two columns matrix list. The first column is the lenght of the cut, while the second one stands for the due quantities of cuts.\n",
        "\n",
        "    Output:\n",
        "    \n",
        "    [[[3012.0, 1355.0, 1355.0], 278.0],\n",
        "    [[3012.0, 1355.0, 1355.0], 278.0],\n",
        "    [[1355.0, 1355.0, 1355.0, 562.0, 562.0, 562.0], 249.0],\n",
        "    [[562.0, 562.0, 562.0], 4314.0]]\n",
        "\n",
        "    Each line represents a list with a nesting list, followed by the cutting leftover.\n",
        "    '''\n",
        "    sl = copy.deepcopy(slices_list)\n",
        "    sl.sort()\n",
        "    sl = sl[::-1]\n",
        "\n",
        "    def check_qty(L):\n",
        "        for l in L:\n",
        "            if l[1] > 0:\n",
        "                return True\n",
        "        return False\n",
        "\n",
        "    total_loss = 0\n",
        "    nesting = []\n",
        "    while check_qty(sl):\n",
        "        n = []\n",
        "        left = blank_size\n",
        "        for s in range(0,len(sl)):\n",
        "            while sl[s][1] > 0 and sl[s][0] <= left:\n",
        "                n.append(sl[s][0])\n",
        "                left -= sl[s][0]\n",
        "                sl[s][1] -= 1\n",
        "        nesting.append([n, left])\n",
        "        total_loss += left\n",
        "\n",
        "    number_of_pipes = len(nesting)\n",
        "\n",
        "    print('Result Info: ')\n",
        "    print('number_of_pipes: ', number_of_pipes)\n",
        "    print('yield: ', (number_of_pipes*blank_size - total_loss) / (number_of_pipes*blank_size))\n",
        "\n",
        "    return nesting"
      ],
      "execution_count": null,
      "outputs": []
    },
    {
      "cell_type": "code",
      "metadata": {
        "id": "0lX5JUflkoHo",
        "colab_type": "code",
        "colab": {
          "base_uri": "https://localhost:8080/",
          "height": 136
        },
        "outputId": "10ec66c9-370c-46e2-d8f5-0fc6a47b76ce"
      },
      "source": [
        "nest_pipes([[562.0, 6],[1355.0, 7],[3012.0,2]])"
      ],
      "execution_count": null,
      "outputs": [
        {
          "output_type": "stream",
          "text": [
            "Result Info: \n",
            "number_of_pipes:  4\n",
            "yield:  0.7867083333333333\n"
          ],
          "name": "stdout"
        },
        {
          "output_type": "execute_result",
          "data": {
            "text/plain": [
              "[[[3012.0, 1355.0, 1355.0], 278.0],\n",
              " [[3012.0, 1355.0, 1355.0], 278.0],\n",
              " [[1355.0, 1355.0, 1355.0, 562.0, 562.0, 562.0], 249.0],\n",
              " [[562.0, 562.0, 562.0], 4314.0]]"
            ]
          },
          "metadata": {
            "tags": []
          },
          "execution_count": 9
        }
      ]
    },
    {
      "cell_type": "code",
      "metadata": {
        "id": "Sl4mbSEVrd1L",
        "colab_type": "code",
        "colab": {}
      },
      "source": [
        ""
      ],
      "execution_count": null,
      "outputs": []
    },
    {
      "cell_type": "code",
      "metadata": {
        "id": "E_tnRsrNBov_",
        "colab_type": "code",
        "colab": {}
      },
      "source": [
        ""
      ],
      "execution_count": null,
      "outputs": []
    },
    {
      "cell_type": "code",
      "metadata": {
        "id": "gBEaqNaOBpZY",
        "colab_type": "code",
        "colab": {}
      },
      "source": [
        ""
      ],
      "execution_count": null,
      "outputs": []
    }
  ]
}